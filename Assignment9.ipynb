{
 "cells": [
  {
   "cell_type": "code",
   "execution_count": 1,
   "id": "66cb496d-99df-4c49-8c7b-6e66dfe4ba57",
   "metadata": {},
   "outputs": [],
   "source": [
    "# Q.1 in ppython exception is an event that occurs during the execution of the a program signaling that an \n",
    "# error or other unusual condition has occurred. Exceptions are raised when the program is syntactically correct\n",
    "# But the code results in an error.This error does not stop the execution of the program, however it changes the normal flow of the program\n",
    "# python represents exceptions by an object of a specific type.\n",
    "\n",
    "#Syntax errors occur when the parser detects an incorrect statement. syntax error are problems in a program due to which the program will stop the execution.\n",
    "# They occur when the proper syntax of the language is not followed"
   ]
  },
  {
   "cell_type": "code",
   "execution_count": 6,
   "id": "6ac40700-0a8f-4b0d-8982-ce8ac74b82a8",
   "metadata": {},
   "outputs": [
    {
     "ename": "ZeroDivisionError",
     "evalue": "division by zero",
     "output_type": "error",
     "traceback": [
      "\u001b[0;31m---------------------------------------------------------------------------\u001b[0m",
      "\u001b[0;31mZeroDivisionError\u001b[0m                         Traceback (most recent call last)",
      "Cell \u001b[0;32mIn[6], line 6\u001b[0m\n\u001b[1;32m      1\u001b[0m \u001b[38;5;66;03m# Q.2 \u001b[39;00m\n\u001b[1;32m      2\u001b[0m \u001b[38;5;66;03m# When an exception is not handled in python it causes the current process\u001b[39;00m\n\u001b[1;32m      3\u001b[0m \u001b[38;5;66;03m# to stop and passess it to the calling process until it is handled. if the exception remains unhandled \u001b[39;00m\n\u001b[1;32m      4\u001b[0m \u001b[38;5;66;03m# it will cause the program to terminate.An error message is displayed, and the program halts unexpectedly.\u001b[39;00m\n\u001b[0;32m----> 6\u001b[0m \u001b[38;5;241;43m10\u001b[39;49m\u001b[38;5;241;43m/\u001b[39;49m\u001b[38;5;241;43m0\u001b[39;49m\n\u001b[1;32m      7\u001b[0m \u001b[38;5;28mprint\u001b[39m(\u001b[38;5;124m\"\u001b[39m\u001b[38;5;124mThis code will not execute after error\u001b[39m\u001b[38;5;124m\"\u001b[39m)\n",
      "\u001b[0;31mZeroDivisionError\u001b[0m: division by zero"
     ]
    }
   ],
   "source": [
    "# Q.2 \n",
    "# When an exception is not handled in python it causes the current process\n",
    "# to stop and passess it to the calling process until it is handled. if the exception remains unhandled \n",
    "# it will cause the program to terminate.An error message is displayed, and the program halts unexpectedly.\n",
    "\n",
    "10/0\n",
    "print(\"This code will not execute after error\")"
   ]
  },
  {
   "cell_type": "code",
   "execution_count": 7,
   "id": "65abe212-537d-421d-8f08-912038ab2e5c",
   "metadata": {},
   "outputs": [
    {
     "name": "stdout",
     "output_type": "stream",
     "text": [
      "the exception code is executed\n"
     ]
    }
   ],
   "source": [
    "#Q.3 Python statement that are used to catch and handle exceptions are try and except.\n",
    "# the try statement contains a block of code that may raise an exceptions,and the except statement\n",
    "# contains a block of code that handels the exception if it occurs\n",
    "\n",
    "try:\n",
    "    10/0\n",
    "    print(\"The main code was executed\")\n",
    "except ZeroDivisionError:\n",
    "    print(\"the exception code is executed\")"
   ]
  },
  {
   "cell_type": "code",
   "execution_count": 9,
   "id": "6bd66053-1648-4f0a-aadc-07013026e3e5",
   "metadata": {},
   "outputs": [
    {
     "name": "stdout",
     "output_type": "stream",
     "text": [
      "this will be executed once try will execute without error\n"
     ]
    }
   ],
   "source": [
    "# Q.4\n",
    "try:\n",
    "    f= open(\"text.txt\",'w')\n",
    "    f.write(\"write into my file\")\n",
    "except exception as e :\n",
    "    print(\"this is my except block\", e)\n",
    "else :\n",
    "    f.close()\n",
    "    print(\"this will be executed once try will execute without error\")"
   ]
  },
  {
   "cell_type": "code",
   "execution_count": 12,
   "id": "65292c3f-2072-40bd-8a93-7ad651d389a4",
   "metadata": {},
   "outputs": [
    {
     "name": "stdout",
     "output_type": "stream",
     "text": [
      "Finally will execute itself in any situations\n"
     ]
    }
   ],
   "source": [
    "try :\n",
    "    f = open(\"text1.txt\",'w')\n",
    "    f.write(\"test type 1\")\n",
    "finally :\n",
    "    print(\"Finally will execute itself in any situations\")"
   ]
  },
  {
   "cell_type": "code",
   "execution_count": 23,
   "id": "c3411411-dac5-4d48-817a-abacbaad0257",
   "metadata": {},
   "outputs": [
    {
     "name": "stdin",
     "output_type": "stream",
     "text": [
      "enter your age -4\n"
     ]
    },
    {
     "name": "stdout",
     "output_type": "stream",
     "text": [
      "Error invalid age\n"
     ]
    }
   ],
   "source": [
    "try:\n",
    "    age= int(input(\"enter your age\"))\n",
    "    if age<0 or age>120:\n",
    "        raise ValueError (\"invalid age\")\n",
    "except ValueError as e:\n",
    "        print(\"Error\",e)"
   ]
  },
  {
   "cell_type": "code",
   "execution_count": 1,
   "id": "46c292ee-b88d-4f8e-b530-f1066c82b1db",
   "metadata": {},
   "outputs": [],
   "source": [
    "#Q.4 Custom exceptions are exceptions that you create yourself, tailored to specific error conditions within your application.\n",
    "# they extend the buil-in exception hierarchy in python providing a way to signal and handle errors in a more meaningful and organized manner.\n",
    "\n",
    "#1. Domain-specific errors:They allow you to define exceptions that accurately represent errors that unique to your applications domain this enhances clarity and maintainability\n",
    "#2. Meaningful error handling: you can create exceptions with names that clearly describe the nature of the errors, making code easier to understand and debug\n",
    "#3.Imorved error handling: Specific custom exceptions enable more precise error hanling eithin your code , allowing you to take tailored actions based on the exact nature of the problem.\n",
    "#4.code organization: Custom exceptions can be organized into hierarchies, reflecting relationships between different types of errors facilitating a stuctuers approach to exception handling \n"
   ]
  },
  {
   "cell_type": "code",
   "execution_count": 2,
   "id": "a7b128a8-f1cf-4004-bcf5-3b081a44b3d0",
   "metadata": {},
   "outputs": [],
   "source": [
    "class validateage(Exception):\n",
    "    \n",
    "    def __init__(self, msg):\n",
    "        self.msg = msg "
   ]
  },
  {
   "cell_type": "code",
   "execution_count": 9,
   "id": "c0a697a3-54cd-4d19-8c7d-aade983eb257",
   "metadata": {},
   "outputs": [],
   "source": [
    "def validaetage(age) :\n",
    "    if age< 0 :\n",
    "        raise validateage(\"entered age is negative\")\n",
    "    elif age>200 :\n",
    "        raise validateage (\"entered age is very high\")\n",
    "    else :\n",
    "        print (\"age is valid\")"
   ]
  },
  {
   "cell_type": "code",
   "execution_count": 11,
   "id": "cb623694-4be9-44c5-893e-20f6fc5f9e21",
   "metadata": {},
   "outputs": [
    {
     "name": "stdin",
     "output_type": "stream",
     "text": [
      "enter your age 2145\n"
     ]
    },
    {
     "name": "stdout",
     "output_type": "stream",
     "text": [
      "entered age is very high\n"
     ]
    }
   ],
   "source": [
    "try :\n",
    "    age= int(input(\"enter your age\"))\n",
    "    validaetage(age)\n",
    "except validateage as e :\n",
    "    print(e)"
   ]
  },
  {
   "cell_type": "code",
   "execution_count": 12,
   "id": "8ec1034c-b5de-4597-8c86-5c3c01df165e",
   "metadata": {},
   "outputs": [
    {
     "name": "stdout",
     "output_type": "stream",
     "text": [
      "caught an exception: This is a custom exception\n"
     ]
    }
   ],
   "source": [
    "# Q.5 \n",
    "class CustomException(Exception):\n",
    "    def __init__(self,message):\n",
    "        self.message = message\n",
    "\n",
    "try:\n",
    "    raise CustomException(\"This is a custom exception\")\n",
    "except CustomException as e:\n",
    "    print(\"caught an exception:\",e)"
   ]
  },
  {
   "cell_type": "code",
   "execution_count": null,
   "id": "e9042657-5ffa-4417-944e-5751e8c112cf",
   "metadata": {},
   "outputs": [],
   "source": []
  }
 ],
 "metadata": {
  "kernelspec": {
   "display_name": "Python 3 (ipykernel)",
   "language": "python",
   "name": "python3"
  },
  "language_info": {
   "codemirror_mode": {
    "name": "ipython",
    "version": 3
   },
   "file_extension": ".py",
   "mimetype": "text/x-python",
   "name": "python",
   "nbconvert_exporter": "python",
   "pygments_lexer": "ipython3",
   "version": "3.10.8"
  }
 },
 "nbformat": 4,
 "nbformat_minor": 5
}
